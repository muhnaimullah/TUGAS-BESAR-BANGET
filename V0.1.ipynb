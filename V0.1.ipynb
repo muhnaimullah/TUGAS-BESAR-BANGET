{
 "cells": [
  {
   "cell_type": "code",
   "execution_count": 3,
   "metadata": {},
   "outputs": [],
   "source": [
    "from PIL import Image\n",
    "from PIL import ImageEnhance\n",
    "from numpy import asarray\n",
    "import numpy as np\n",
    "from skimage.feature import greycomatrix, greycoprops\n",
    "from sklearn.model_selection import train_test_split\n",
    "from skimage import io, color, img_as_ubyte, img_as_float, data, exposure\n",
    "from sklearn.neighbors import KNeighborsClassifier\n",
    "from sklearn.svm import SVC\n",
    "from sklearn.svm import LinearSVC\n",
    "from sklearn.ensemble import RandomForestClassifier\n",
    "from sklearn.metrics import confusion_matrix, classification_report\n",
    "import matplotlib.pyplot as plt\n",
    "import glob"
   ]
  },
  {
   "cell_type": "code",
   "execution_count": 4,
   "metadata": {},
   "outputs": [],
   "source": [
    "# GLCM properties\n",
    "def contrast_feature(matrix_coocurrence):\n",
    "    contrast = greycoprops(matrix_coocurrence, 'contrast')\n",
    "    return contrast\n",
    "\n",
    "def dissimilarity_feature(matrix_coocurrence):\n",
    "    dissimilarity = greycoprops(matrix_coocurrence, 'dissimilarity')\t\n",
    "    return dissimilarity\n",
    "\n",
    "def homogeneity_feature(matrix_coocurrence):\n",
    "    homogeneity = greycoprops(matrix_coocurrence, 'homogeneity')\n",
    "    return homogeneity\n",
    "\n",
    "def energy_feature(matrix_coocurrence):\n",
    "    energy = greycoprops(matrix_coocurrence, 'energy')\n",
    "    return energy\n",
    "\n",
    "def correlation_feature(matrix_coocurrence):\n",
    "    correlation = greycoprops(matrix_coocurrence, 'correlation')\n",
    "    return correlation\n",
    "\n",
    "def asm_feature(matrix_coocurrence):\n",
    "    asm = greycoprops(matrix_coocurrence, 'ASM')\n",
    "    return asm"
   ]
  },
  {
   "cell_type": "code",
   "execution_count": 5,
   "metadata": {},
   "outputs": [],
   "source": [
    "# Array of List\n",
    "image_list = []\n",
    "feature_list = []\n",
    "label_list = []"
   ]
  },
  {
   "cell_type": "code",
   "execution_count": null,
   "metadata": {},
   "outputs": [],
   "source": [
    "# Image Enhancer\n",
    "image = Image.open(\"Dataset_B (1).jpg\")\n",
    "color = ImageEnhance.Color(image)\n",
    "\n",
    "image.show()\n",
    "color.enhance(2).show()"
   ]
  },
  {
   "cell_type": "code",
   "execution_count": 6,
   "metadata": {},
   "outputs": [
    {
     "name": "stdout",
     "output_type": "stream",
     "text": [
      "number of a is 35\n",
      "number of b is 33\n",
      "number of d is 17\n",
      "85\n"
     ]
    }
   ],
   "source": [
    "# Data Feature Extraction\n",
    "counter = 0\n",
    "labels = ['a','b','d']\n",
    "for label in labels:\n",
    "    i = 0\n",
    "    for filename in glob.glob(\"Dataset_\"+label+\"*.jpg\"): \n",
    "        i+=1\n",
    "        im=Image.open(filename)\n",
    "        color1 = ImageEnhance.Contrast(im)\n",
    "        im2 = color1.enhance(2)\n",
    "        color2 = ImageEnhance.Color(im2)\n",
    "        im3 = color2.enhance(2)\n",
    "        color3 = ImageEnhance.Sharpness(im3)\n",
    "        im4 = color3.enhance(2)\n",
    "        image_list.append(np.array(im4))\n",
    "        arr = np.asarray(im4)\n",
    "\n",
    "        gray = color.rgb2gray(arr)\n",
    "        image = img_as_ubyte(gray)\n",
    "\n",
    "        bins = np.array([0, 16, 32, 48, 64, 80, 96, 112, 128, 144, 160, 176, 192, 208, 224, 240, 255]) #16-bit\n",
    "        inds = np.digitize(image, bins)\n",
    "\n",
    "        max_value = inds.max()+1\n",
    "        matrix_coocurrence = greycomatrix(inds, [1], [0, np.pi/4, np.pi/2, 3*np.pi/4], levels=max_value, normed=False, symmetric=False)\n",
    "\n",
    "        feature_list.append(np.concatenate((contrast_feature(matrix_coocurrence)[0],\n",
    "                                            homogeneity_feature(matrix_coocurrence)[0],\n",
    "                                            energy_feature(matrix_coocurrence)[0],\n",
    "                                            correlation_feature(matrix_coocurrence)[0],\n",
    "                                            dissimilarity_feature(matrix_coocurrence)[0],\n",
    "                                            asm_feature(matrix_coocurrence)[0]\n",
    "                                            )))\n",
    "        label_list.append(label)\n",
    "        counter+=1\n",
    "    print(\"number of\",label,\"is\",i)\n",
    "print(counter)\n"
   ]
  },
  {
   "cell_type": "code",
   "execution_count": 7,
   "metadata": {},
   "outputs": [
    {
     "name": "stdout",
     "output_type": "stream",
     "text": [
      "85\n",
      "85\n"
     ]
    }
   ],
   "source": [
    "print(len(feature_list))\n",
    "print(len(label_list))"
   ]
  },
  {
   "cell_type": "code",
   "execution_count": 8,
   "metadata": {},
   "outputs": [],
   "source": [
    "feature_list = np.array(feature_list)\n",
    "#feature_listT = np.array(feature_listT)"
   ]
  },
  {
   "cell_type": "code",
   "execution_count": 9,
   "metadata": {},
   "outputs": [
    {
     "data": {
      "text/plain": [
       "array([[0.56610203, 1.04265454, 0.59972405, ..., 0.12454732, 0.13384922,\n",
       "        0.1258684 ],\n",
       "       [0.70734947, 1.2096809 , 0.79199438, ..., 0.05767492, 0.06464694,\n",
       "        0.0560341 ],\n",
       "       [0.59323397, 1.03745146, 0.64175089, ..., 0.12047888, 0.12887619,\n",
       "        0.11753839],\n",
       "       ...,\n",
       "       [0.2084473 , 0.29533813, 0.24827209, ..., 0.05732075, 0.06184598,\n",
       "        0.05559619],\n",
       "       [0.2261847 , 0.31401874, 0.26233342, ..., 0.05879415, 0.06342357,\n",
       "        0.05597053],\n",
       "       [0.28033017, 0.42765625, 0.37749653, ..., 0.07825649, 0.08271557,\n",
       "        0.07245354]])"
      ]
     },
     "execution_count": 9,
     "metadata": {},
     "output_type": "execute_result"
    }
   ],
   "source": [
    "feature_list"
   ]
  },
  {
   "cell_type": "code",
   "execution_count": 10,
   "metadata": {},
   "outputs": [
    {
     "data": {
      "text/plain": [
       "(85, 24)"
      ]
     },
     "execution_count": 10,
     "metadata": {},
     "output_type": "execute_result"
    }
   ],
   "source": [
    "feature_list.shape"
   ]
  },
  {
   "cell_type": "code",
   "execution_count": 11,
   "metadata": {},
   "outputs": [
    {
     "data": {
      "text/plain": [
       "3"
      ]
     },
     "execution_count": 11,
     "metadata": {},
     "output_type": "execute_result"
    }
   ],
   "source": [
    "len(labels)"
   ]
  },
  {
   "cell_type": "code",
   "execution_count": 12,
   "metadata": {},
   "outputs": [],
   "source": [
    "X_train = feature_list\n",
    "Y_train = labels"
   ]
  },
  {
   "cell_type": "code",
   "execution_count": 15,
   "metadata": {},
   "outputs": [
    {
     "name": "stdout",
     "output_type": "stream",
     "text": [
      "random_state= 2  the score is 80.76923076923077\n",
      "random_state= 12  the score is 80.76923076923077\n",
      "random_state= 22  the score is 80.76923076923077\n",
      "random_state= 32  the score is 80.76923076923077\n",
      "random_state= 42  the score is 80.76923076923077\n",
      "random_state= 52  the score is 80.76923076923077\n",
      "random_state= 62  the score is 80.76923076923077\n",
      "random_state= 72  the score is 80.76923076923077\n",
      "random_state= 82  the score is 80.76923076923077\n",
      "random_state= 92  the score is 80.76923076923077\n"
     ]
    }
   ],
   "source": [
    "X_train, X_test, y_train, y_test = train_test_split(feature_list, label_list, random_state=5, test_size=0.3)\n",
    "\n",
    "i=2\n",
    "while (i<=100):\n",
    "    clfm = LinearSVC(random_state=i, multi_class='ovr',C=1, max_iter=10000)\n",
    "    clfm.fit(X_train, y_train)\n",
    "    print(\"random_state=\",i,\" the score is\",clfm.score(X_test,y_test)*100)\n",
    "    i+=10\n",
    "y_pred = clfm.predict(X_test)"
   ]
  },
  {
   "cell_type": "code",
   "execution_count": 14,
   "metadata": {},
   "outputs": [
    {
     "name": "stdout",
     "output_type": "stream",
     "text": [
      "random state= 102  the score is  57.99999999999999\n"
     ]
    }
   ],
   "source": [
    "X_train, X_test, y_train, y_test = train_test_split(feature_list, label_list, random_state=5, test_size=50)\n",
    "\n",
    "\n",
    "clf = LinearSVC(random_state=42, multi_class='ovr', max_iter=1000)\n",
    "clf.fit(X_train, y_train)\n",
    "print(\"random state=\",i,\" the score is \",clf.score(X_test,y_test)*100)\n",
    "\n",
    "\n",
    "y_pred = clf.predict(X_test)"
   ]
  },
  {
   "cell_type": "code",
   "execution_count": 15,
   "metadata": {},
   "outputs": [
    {
     "name": "stdout",
     "output_type": "stream",
     "text": [
      "['d', 'a', 'a', 'd', 'a', 'b', 'a', 'a', 'a', 'b', 'b', 'a', 'a', 'a', 'b', 'd', 'b', 'b', 'a', 'b', 'b', 'a', 'd', 'a', 'b', 'a']\n"
     ]
    }
   ],
   "source": [
    "print(y_test)"
   ]
  },
  {
   "cell_type": "code",
   "execution_count": 16,
   "metadata": {},
   "outputs": [
    {
     "name": "stdout",
     "output_type": "stream",
     "text": [
      "['d' 'a' 'a' 'd' 'a' 'a' 'a' 'b' 'a' 'b' 'b' 'b' 'a' 'a' 'b' 'd' 'd' 'b'\n",
      " 'a' 'b' 'a' 'a' 'd' 'a' 'b' 'a']\n"
     ]
    }
   ],
   "source": [
    "print(y_pred)"
   ]
  },
  {
   "cell_type": "code",
   "execution_count": 17,
   "metadata": {},
   "outputs": [
    {
     "name": "stdout",
     "output_type": "stream",
     "text": [
      "[[0 0 0 ... 0 0 0]\n",
      " [0 0 0 ... 0 0 0]\n",
      " [0 0 0 ... 0 0 0]\n",
      " ...\n",
      " [0 0 0 ... 0 0 0]\n",
      " [0 0 0 ... 0 0 0]\n",
      " [0 0 0 ... 0 0 4]]\n",
      "              precision    recall  f1-score   support\n",
      "\n",
      "           a       0.85      0.85      0.85        13\n",
      "           b       0.75      0.67      0.71         9\n",
      "           d       0.80      1.00      0.89         4\n",
      "\n",
      "    accuracy                           0.81        26\n",
      "   macro avg       0.80      0.84      0.81        26\n",
      "weighted avg       0.81      0.81      0.80        26\n",
      "\n",
      "Testing  set score for SVM: 0.653846\n"
     ]
    }
   ],
   "source": [
    "print(confusion_matrix(y_test, y_pred, label_list))\n",
    "\n",
    "print(classification_report(y_test, y_pred))\n",
    "\n",
    "print(\"Testing  set score for SVM: %f\" % clf.score(X_test  , y_test ))"
   ]
  },
  {
   "cell_type": "code",
   "execution_count": 18,
   "metadata": {},
   "outputs": [
    {
     "name": "stdout",
     "output_type": "stream",
     "text": [
      "[[0 0 0 ... 0 0 0]\n",
      " [0 0 0 ... 0 0 0]\n",
      " [0 0 0 ... 0 0 0]\n",
      " ...\n",
      " [0 0 0 ... 0 0 0]\n",
      " [0 0 0 ... 0 0 0]\n",
      " [0 0 0 ... 0 0 4]]\n"
     ]
    },
    {
     "data": {
      "image/png": "[encoded data removed]",
      "text/plain": [
       "<Figure size 432x288 with 2 Axes>"
      ]
     },
     "metadata": {
      "needs_background": "light"
     },
     "output_type": "display_data"
    }
   ],
   "source": [
    "cm = confusion_matrix(y_test, y_pred, label_list) \n",
    "\n",
    "print(cm) \n",
    "\n",
    "fig = plt.figure() \n",
    "ax = fig.add_subplot(111) \n",
    "cax = ax.matshow(cm) \n",
    "\n",
    "plt.title('Confusion matrix of OvR SVM classifier')\n",
    "fig.colorbar(cax) \n",
    "\n",
    "ax.set_xticklabels([''] + label_list) \n",
    "ax.set_yticklabels([''] + label_list) \n",
    "\n",
    "plt.xlabel('Predicted') \n",
    "plt.ylabel('True') \n",
    "plt.show()"
   ]
  },
  {
   "cell_type": "code",
   "execution_count": 19,
   "metadata": {},
   "outputs": [
    {
     "name": "stdout",
     "output_type": "stream",
     "text": [
      "80.76923076923077\n"
     ]
    }
   ],
   "source": [
    "temp = 0 \n",
    "count = 0\n",
    "while(temp!=len(y_pred)):\n",
    "    if (y_pred[temp] == y_test[temp]):\n",
    "        count+=1\n",
    "    temp+=1\n",
    "print(count/len(y_pred)*100)"
   ]
  },
  {
   "cell_type": "code",
   "execution_count": null,
   "metadata": {},
   "outputs": [],
   "source": []
  }
 ],
 "metadata": {
  "kernelspec": {
   "display_name": "Python 3",
   "language": "python",
   "name": "python3"
  },
  "language_info": {
   "codemirror_mode": {
    "name": "ipython",
    "version": 3
   },
   "file_extension": ".py",
   "mimetype": "text/x-python",
   "name": "python",
   "nbconvert_exporter": "python",
   "pygments_lexer": "ipython3",
   "version": "3.8.3"
  }
 },
 "nbformat": 4,
 "nbformat_minor": 2
}
